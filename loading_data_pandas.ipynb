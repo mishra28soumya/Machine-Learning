{
 "nbformat": 4,
 "nbformat_minor": 2,
 "metadata": {
  "language_info": {
   "name": "python",
   "codemirror_mode": {
    "name": "ipython",
    "version": 3
   }
  },
  "orig_nbformat": 2,
  "file_extension": ".py",
  "mimetype": "text/x-python",
  "name": "python",
  "npconvert_exporter": "python",
  "pygments_lexer": "ipython3",
  "version": 3
 },
 "cells": [
  {
   "cell_type": "code",
   "execution_count": null,
   "metadata": {},
   "outputs": [
    {
     "output_type": "error",
     "ename": "Error",
     "evalue": "Jupyter cannot be started. Error attempting to locate jupyter: Select an Interpreter to start Jupyter",
     "traceback": [
      "Error: Jupyter cannot be started. Error attempting to locate jupyter: Select an Interpreter to start Jupyter",
      "at A.startServer (c:\\Users\\I348542\\.vscode\\extensions\\ms-python.python-2020.2.62710\\out\\client\\extension.js:1:780998)",
      "at async A.ensureServerAndNotebookImpl (c:\\Users\\I348542\\.vscode\\extensions\\ms-python.python-2020.2.62710\\out\\client\\extension.js:1:780453)",
      "at async A.ensureServerAndNotebook (c:\\Users\\I348542\\.vscode\\extensions\\ms-python.python-2020.2.62710\\out\\client\\extension.js:1:780254)",
      "at async A.submitCode (c:\\Users\\I348542\\.vscode\\extensions\\ms-python.python-2020.2.62710\\out\\client\\extension.js:1:777636)",
      "at async A.reexecuteCell (c:\\Users\\I348542\\.vscode\\extensions\\ms-python.python-2020.2.62710\\out\\client\\extension.js:75:879007)"
     ]
    }
   ],
   "source": [
    "import pandas as pd\n\ndef load_housing_data(housing_path=HOUSING_PATH):\n    csv_path = os.path.join(housing_path, \"housing.csv\")\n    return pd.read_csv(csv_path)"
   ]
  }
 ]
}